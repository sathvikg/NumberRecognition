{
 "cells": [
  {
   "cell_type": "code",
   "execution_count": 1,
   "metadata": {
    "colab": {},
    "colab_type": "code",
    "id": "FACEksENv_Hh"
   },
   "outputs": [],
   "source": [
    "from keras.datasets import mnist\n",
    "#loading the mnist dataset\n",
    "\n",
    "(train_data, train_target),(test_data, test_target) = mnist.load_data()\n",
    "#spliting the dataset into training and testing"
   ]
  },
  {
   "cell_type": "code",
   "execution_count": 2,
   "metadata": {
    "colab": {
     "base_uri": "https://localhost:8080/",
     "height": 265
    },
    "colab_type": "code",
    "id": "ZqT96HNf9yS3",
    "outputId": "bec78c8c-340e-40fe-b9a0-ff643ed5dcac"
   },
   "outputs": [
    {
     "data": {
      "image/png": "[encoded data removed]",
      "text/plain": [
       "<Figure size 432x288 with 1 Axes>"
      ]
     },
     "metadata": {
      "needs_background": "light"
     },
     "output_type": "display_data"
    }
   ],
   "source": [
    "from matplotlib import pyplot as plt\n",
    "\n",
    "plt.imshow(train_data[0],cmap='gray')\n",
    "plt.show()"
   ]
  },
  {
   "cell_type": "code",
   "execution_count": 3,
   "metadata": {
    "colab": {
     "base_uri": "https://localhost:8080/",
     "height": 34
    },
    "colab_type": "code",
    "id": "uoq_CiJW-G3v",
    "outputId": "d093fff7-fa90-40aa-df1e-f468fa607f92"
   },
   "outputs": [
    {
     "name": "stdout",
     "output_type": "stream",
     "text": [
      "5\n"
     ]
    }
   ],
   "source": [
    "print(train_target[0])"
   ]
  },
  {
   "cell_type": "code",
   "execution_count": 4,
   "metadata": {
    "colab": {},
    "colab_type": "code",
    "id": "Cedhn8pv9mpa"
   },
   "outputs": [],
   "source": [
    "train_data= train_data / 255.0 \n",
    "test_data=test_data/255.0\n",
    "#Scaling the 0-255 gray image to 0-1 (Requirement before training the Neural Network)"
   ]
  },
  {
   "cell_type": "code",
   "execution_count": 5,
   "metadata": {
    "colab": {
     "base_uri": "https://localhost:8080/",
     "height": 289
    },
    "colab_type": "code",
    "id": "H7WOojQu9zm4",
    "outputId": "d722e6fc-eb21-4fe5-cb9a-409f54cb049e"
   },
   "outputs": [
    {
     "name": "stdout",
     "output_type": "stream",
     "text": [
      "Model: \"sequential\"\n",
      "_________________________________________________________________\n",
      "Layer (type)                 Output Shape              Param #   \n",
      "=================================================================\n",
      "flatten (Flatten)            (None, 784)               0         \n",
      "_________________________________________________________________\n",
      "dense (Dense)                (None, 512)               401920    \n",
      "_________________________________________________________________\n",
      "dense_1 (Dense)              (None, 256)               131328    \n",
      "_________________________________________________________________\n",
      "dense_2 (Dense)              (None, 10)                2570      \n",
      "=================================================================\n",
      "Total params: 535,818\n",
      "Trainable params: 535,818\n",
      "Non-trainable params: 0\n",
      "_________________________________________________________________\n"
     ]
    }
   ],
   "source": [
    "from keras.models import Sequential\n",
    "#loading Sequential model from keras\n",
    "from keras.layers import Flatten,Dense\n",
    "#loading Flatten and Dense layers from keras\n",
    "\n",
    "model = Sequential()\n",
    "#creating a Sequential type neural network (a empty neural network, add layer by layer)\n",
    "model.add(Flatten(input_shape=(28, 28)))\n",
    "#a flatten layer to flatten up the 28x28 input image into 784 inputs\n",
    "model.add(Dense(512, activation='relu'))\n",
    "#1st Hidden layer with 512 Neurons\n",
    "model.add(Dense(256, activation='relu'))\n",
    "#2nd Hidden layer with 256 Neurons\n",
    "model.add(Dense(10, activation='softmax'))\n",
    "#output layer with 10 output neurons\n",
    "model.compile(optimizer='adam',loss='mean_squared_error',metrics=['accuracy'])\n",
    "#compiling the neural network with necessary parameters\n",
    "\n",
    "model.summary()\n",
    "#neural network architecture and parameters"
   ]
  },
  {
   "cell_type": "code",
   "execution_count": 6,
   "metadata": {
    "colab": {
     "base_uri": "https://localhost:8080/",
     "height": 1000
    },
    "colab_type": "code",
    "id": "walrAPBDAmZa",
    "outputId": "48d7f38e-1299-4d13-e035-4b9fc766a3da"
   },
   "outputs": [
    {
     "name": "stdout",
     "output_type": "stream",
     "text": [
      "Epoch 1/20\n",
      "1875/1875 [==============================] - 11s 6ms/step - loss: 0.0096 - accuracy: 0.9369\n",
      "Epoch 2/20\n",
      "1875/1875 [==============================] - 11s 6ms/step - loss: 0.0048 - accuracy: 0.9699\n",
      "Epoch 3/20\n",
      "1875/1875 [==============================] - 10s 6ms/step - loss: 0.0037 - accuracy: 0.9766\n",
      "Epoch 4/20\n",
      "1875/1875 [==============================] - 10s 6ms/step - loss: 0.0031 - accuracy: 0.9807\n",
      "Epoch 5/20\n",
      "1875/1875 [==============================] - 13s 7ms/step - loss: 0.0027 - accuracy: 0.9833\n",
      "Epoch 6/20\n",
      "1875/1875 [==============================] - 10s 5ms/step - loss: 0.0023 - accuracy: 0.9859\n",
      "Epoch 7/20\n",
      "1875/1875 [==============================] - 10s 6ms/step - loss: 0.0023 - accuracy: 0.9859\n",
      "Epoch 8/20\n",
      "1875/1875 [==============================] - 11s 6ms/step - loss: 0.0022 - accuracy: 0.9868\n",
      "Epoch 9/20\n",
      "1875/1875 [==============================] - 10s 6ms/step - loss: 0.0018 - accuracy: 0.9891\n",
      "Epoch 10/20\n",
      "1875/1875 [==============================] - 10s 6ms/step - loss: 0.0019 - accuracy: 0.9888\n",
      "Epoch 11/20\n",
      "1875/1875 [==============================] - 10s 6ms/step - loss: 0.0019 - accuracy: 0.9885\n",
      "Epoch 12/20\n",
      "1875/1875 [==============================] - 10s 6ms/step - loss: 0.0018 - accuracy: 0.9897\n",
      "Epoch 13/20\n",
      "1875/1875 [==============================] - 10s 6ms/step - loss: 0.0017 - accuracy: 0.9902\n",
      "Epoch 14/20\n",
      "1875/1875 [==============================] - 10s 6ms/step - loss: 0.0018 - accuracy: 0.9898\n",
      "Epoch 15/20\n",
      "1875/1875 [==============================] - 10s 6ms/step - loss: 0.0016 - accuracy: 0.9909\n",
      "Epoch 16/20\n",
      "1875/1875 [==============================] - 10s 5ms/step - loss: 0.0016 - accuracy: 0.9907\n",
      "Epoch 17/20\n",
      "1875/1875 [==============================] - 10s 5ms/step - loss: 0.0017 - accuracy: 0.9906\n",
      "Epoch 18/20\n",
      "1875/1875 [==============================] - 10s 6ms/step - loss: 0.0016 - accuracy: 0.9912\n",
      "Epoch 19/20\n",
      "1875/1875 [==============================] - 10s 5ms/step - loss: 0.0016 - accuracy: 0.9910\n",
      "Epoch 20/20\n",
      "1875/1875 [==============================] - 10s 6ms/step - loss: 0.0018 - accuracy: 0.9900\n"
     ]
    }
   ],
   "source": [
    "from keras.utils import to_categorical\n",
    "\n",
    "train_target=to_categorical(train_target)\n",
    "#convering the labels into a categorical representation\n",
    "\n",
    "history=model.fit(train_data, train_target, epochs=20)\n",
    "#training the neural network for 50 epochs"
   ]
  },
  {
   "cell_type": "code",
   "execution_count": 7,
   "metadata": {
    "colab": {
     "base_uri": "https://localhost:8080/",
     "height": 357
    },
    "colab_type": "code",
    "id": "tMhBuWI1v_Hq",
    "outputId": "f9ffae57-855e-42bb-bf30-14e9eac29d36"
   },
   "outputs": [
    {
     "name": "stdout",
     "output_type": "stream",
     "text": [
      "[[0.0000000e+00 4.2953248e-30 0.0000000e+00 1.6021240e-27 0.0000000e+00\n",
      "  0.0000000e+00 0.0000000e+00 1.0000000e+00 2.0152138e-38 0.0000000e+00]\n",
      " [0.0000000e+00 6.3712988e-29 1.0000000e+00 9.7170101e-34 0.0000000e+00\n",
      "  0.0000000e+00 0.0000000e+00 0.0000000e+00 0.0000000e+00 0.0000000e+00]\n",
      " [8.4292390e-22 1.0000000e+00 3.5858275e-22 3.9880527e-33 8.3289995e-15\n",
      "  3.6663509e-25 1.2413677e-29 4.2885541e-19 4.1326383e-20 1.1974994e-25]\n",
      " [1.0000000e+00 3.4864863e-21 1.8796580e-08 2.0289357e-16 2.9258602e-24\n",
      "  3.7805176e-22 6.1507551e-21 6.2013693e-26 4.9067310e-20 1.2619419e-13]\n",
      " [3.3545827e-37 0.0000000e+00 3.3064639e-33 0.0000000e+00 1.0000000e+00\n",
      "  2.3599989e-31 0.0000000e+00 5.2013152e-28 4.2989550e-34 4.4383296e-34]\n",
      " [4.5459727e-27 1.0000000e+00 5.3892476e-31 0.0000000e+00 2.0024207e-19\n",
      "  2.7401514e-33 2.7253131e-36 3.2418953e-24 1.0085716e-27 9.3837438e-31]\n",
      " [0.0000000e+00 0.0000000e+00 0.0000000e+00 0.0000000e+00 1.0000000e+00\n",
      "  0.0000000e+00 0.0000000e+00 4.6075989e-36 1.5577883e-24 2.9684891e-33]\n",
      " [3.6325672e-23 3.8263449e-25 6.9104580e-13 1.3846108e-10 1.5028944e-18\n",
      "  4.0389772e-09 5.8218261e-26 9.3461524e-18 5.4623758e-22 1.0000000e+00]\n",
      " [7.9782278e-31 2.7974062e-32 5.2311119e-16 7.8947291e-31 1.6187054e-25\n",
      "  9.8182559e-01 4.7547146e-06 8.4330920e-30 1.8169560e-02 2.9777385e-13]\n",
      " [0.0000000e+00 0.0000000e+00 0.0000000e+00 0.0000000e+00 9.1690068e-28\n",
      "  0.0000000e+00 0.0000000e+00 1.4730558e-33 0.0000000e+00 1.0000000e+00]]\n"
     ]
    }
   ],
   "source": [
    "results=model.predict(test_data)\n",
    "print(results[:10])\n",
    "#testing and getting results using unseen data"
   ]
  },
  {
   "cell_type": "code",
   "execution_count": 8,
   "metadata": {
    "colab": {},
    "colab_type": "code",
    "id": "13GTitf_v_Hx"
   },
   "outputs": [],
   "source": [
    "import numpy as np\n",
    "results=np.argmax(results,axis=1)"
   ]
  },
  {
   "cell_type": "code",
   "execution_count": 9,
   "metadata": {
    "colab": {
     "base_uri": "https://localhost:8080/",
     "height": 51
    },
    "colab_type": "code",
    "id": "WsnU889xv_H1",
    "outputId": "a84660db-092a-4b75-ee0e-39d8c0b2052c"
   },
   "outputs": [
    {
     "name": "stdout",
     "output_type": "stream",
     "text": [
      "[7 2 1 0 4 1 4 9 5 9]\n",
      "[7 2 1 0 4 1 4 9 5 9]\n"
     ]
    }
   ],
   "source": [
    "print(test_target[:10])\n",
    "print(results[:10])"
   ]
  },
  {
   "cell_type": "code",
   "execution_count": 10,
   "metadata": {
    "colab": {
     "base_uri": "https://localhost:8080/",
     "height": 34
    },
    "colab_type": "code",
    "id": "Hb6li-t-v_H5",
    "outputId": "8f83a714-39af-4796-a0d0-f5ea535a0d13"
   },
   "outputs": [
    {
     "name": "stdout",
     "output_type": "stream",
     "text": [
      "Accuracy: 0.9772\n"
     ]
    }
   ],
   "source": [
    "from sklearn.metrics import accuracy_score\n",
    "accuracy=accuracy_score(test_target,results)\n",
    "print('Accuracy:',accuracy)\n",
    "#getting the accuracy between the actual and predicted results"
   ]
  },
  {
   "cell_type": "code",
   "execution_count": 11,
   "metadata": {
    "colab": {
     "base_uri": "https://localhost:8080/",
     "height": 296
    },
    "colab_type": "code",
    "id": "IvMIHnt-v_IE",
    "outputId": "5935e720-1021-48ee-9152-89de5c055415"
   },
   "outputs": [
    {
     "data": {
      "text/plain": [
       "Text(0, 0.5, 'loss')"
      ]
     },
     "execution_count": 11,
     "metadata": {},
     "output_type": "execute_result"
    },
    {
     "data": {
      "image/png": "[encoded data removed]",
      "text/plain": [
       "<Figure size 432x288 with 1 Axes>"
      ]
     },
     "metadata": {
      "needs_background": "light"
     },
     "output_type": "display_data"
    }
   ],
   "source": [
    "from matplotlib import pyplot as plt\n",
    "\n",
    "plt.plot(history.history['loss'])\n",
    "plt.xlabel('# epochs')\n",
    "plt.ylabel('loss')\n",
    "#visualizing the loss"
   ]
  },
  {
   "cell_type": "code",
   "execution_count": 13,
   "metadata": {
    "colab": {
     "base_uri": "https://localhost:8080/",
     "height": 296
    },
    "colab_type": "code",
    "id": "OVZj2VPLv_IQ",
    "outputId": "61c19128-f8ee-4bb3-b89f-aabe4e95a3b1"
   },
   "outputs": [
    {
     "data": {
      "text/plain": [
       "Text(0, 0.5, 'accuracy')"
      ]
     },
     "execution_count": 13,
     "metadata": {},
     "output_type": "execute_result"
    },
    {
     "data": {
      "image/png": "[encoded data removed]",
      "text/plain": [
       "<Figure size 432x288 with 1 Axes>"
      ]
     },
     "metadata": {
      "needs_background": "light"
     },
     "output_type": "display_data"
    }
   ],
   "source": [
    "plt.plot(history.history['accuracy'])\n",
    "plt.xlabel('# epochs')\n",
    "plt.ylabel('accuracy')\n",
    "#visualizing the accuracy"
   ]
  },
  {
   "cell_type": "code",
   "execution_count": 14,
   "metadata": {
    "colab": {},
    "colab_type": "code",
    "id": "YL5QqxSDv_IV"
   },
   "outputs": [],
   "source": [
    "model.save_weights('FFNN-MNIST.h5')"
   ]
  },
  {
   "cell_type": "code",
   "execution_count": null,
   "metadata": {},
   "outputs": [],
   "source": []
  }
 ],
 "metadata": {
  "accelerator": "GPU",
  "colab": {
   "name": "3.1 FFNN for MNIST dataset.ipynb",
   "provenance": []
  },
  "kernelspec": {
   "display_name": "Python 3",
   "language": "python",
   "name": "python3"
  },
  "language_info": {
   "codemirror_mode": {
    "name": "ipython",
    "version": 3
   },
   "file_extension": ".py",
   "mimetype": "text/x-python",
   "name": "python",
   "nbconvert_exporter": "python",
   "pygments_lexer": "ipython3",
   "version": "3.8.5"
  }
 },
 "nbformat": 4,
 "nbformat_minor": 1
}
